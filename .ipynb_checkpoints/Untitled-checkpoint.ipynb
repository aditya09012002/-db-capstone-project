{
 "cells": [
  {
   "cell_type": "code",
   "execution_count": 1,
   "id": "e0098d8e-eda1-47a4-9c4e-ebc1aa78bbc9",
   "metadata": {},
   "outputs": [],
   "source": [
    "import mysql.connector as connector"
   ]
  },
  {
   "cell_type": "code",
   "execution_count": 25,
   "id": "28ec0fcb-e701-4daa-b5de-4f7df6209652",
   "metadata": {},
   "outputs": [],
   "source": [
    "conn= connector.connect(\n",
    "    host=\"127.0.0.1\",\n",
    "    port=\"3306\",\n",
    "    user=\"root\",\n",
    "    password=\"root\",\n",
    "    db=\"LittleLemonDB\"\n",
    ")"
   ]
  },
  {
   "cell_type": "code",
   "execution_count": 26,
   "id": "b1302187-de9f-4a15-998c-a250785c6288",
   "metadata": {},
   "outputs": [],
   "source": [
    "cur = conn.cursor()"
   ]
  },
  {
   "cell_type": "code",
   "execution_count": 27,
   "id": "ee8df7fc-cd46-4a61-ba82-4e593efa19e6",
   "metadata": {},
   "outputs": [],
   "source": [
    "show_tables_query = \"SHOW TABLES\""
   ]
  },
  {
   "cell_type": "code",
   "execution_count": 28,
   "id": "ea0309b1-aead-4e20-975a-4303f176a944",
   "metadata": {},
   "outputs": [],
   "source": [
    "cur.execute(show_tables_query)"
   ]
  },
  {
   "cell_type": "code",
   "execution_count": 30,
   "id": "dedcce70-e2d1-490e-bc7d-d25a5a0fb9b4",
   "metadata": {},
   "outputs": [],
   "source": [
    "res= cur.fetchall()"
   ]
  },
  {
   "cell_type": "code",
   "execution_count": 31,
   "id": "4b3cb713-1561-47bd-b950-61e9866d9382",
   "metadata": {},
   "outputs": [
    {
     "name": "stdout",
     "output_type": "stream",
     "text": [
      "[('Bookings',), ('Customers',), ('Menu',), ('OrderDeliveryStatus',), ('OrderMenu',), ('Order_view',), ('Orders',), ('Staff',)]\n"
     ]
    }
   ],
   "source": [
    "print(res)"
   ]
  },
  {
   "cell_type": "code",
   "execution_count": null,
   "id": "efadea3f-f39e-401d-bebb-550adf8258bf",
   "metadata": {},
   "outputs": [],
   "source": []
  }
 ],
 "metadata": {
  "kernelspec": {
   "display_name": "Python 3 (ipykernel)",
   "language": "python",
   "name": "python3"
  },
  "language_info": {
   "codemirror_mode": {
    "name": "ipython",
    "version": 3
   },
   "file_extension": ".py",
   "mimetype": "text/x-python",
   "name": "python",
   "nbconvert_exporter": "python",
   "pygments_lexer": "ipython3",
   "version": "3.13.1"
  }
 },
 "nbformat": 4,
 "nbformat_minor": 5
}
